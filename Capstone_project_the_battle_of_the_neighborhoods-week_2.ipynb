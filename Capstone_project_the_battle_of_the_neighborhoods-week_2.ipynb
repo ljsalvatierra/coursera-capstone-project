{
 "cells": [
  {
   "cell_type": "markdown",
   "id": "naval-springfield",
   "metadata": {},
   "source": [
    "# Capstone Project - The Battle of the Neighborhoods (Week 2)\n",
    "## Applied Data Science Capstone by IBM/Coursera"
   ]
  },
  {
   "cell_type": "markdown",
   "id": "continuing-mirror",
   "metadata": {},
   "source": [
    "## Table of contents\n",
    "* [Introduction: Business Problem](#introduction)\n",
    "* [Data](#data)\n",
    "* [Methodology](#methodology)\n",
    "* [Analysis](#analysis)\n",
    "* [Results and Discussion](#results)\n",
    "* [Conclusion](#conclusion)"
   ]
  },
  {
   "cell_type": "markdown",
   "id": "greatest-kazakhstan",
   "metadata": {},
   "source": [
    "## Introduction <a name=\"introduction\"></a>\n",
    "### Opening a Basque Pintxos bar\n",
    "\n",
    "The goal of this project is to find the best spot for our **Pintxos bar/restaurant**. We need to search for similar cuisine restaurants in an affordable neighborhood. It's a family business looking forward to expand its reach to the United States, particularly on the **Miami** area. The goal is to find a cheap place to rent, and focus on getting local **quality ingredients**. The main ingredient for the menu will be **fish**, so we need to be near other restaurants alike."
   ]
  },
  {
   "cell_type": "markdown",
   "id": "blessed-digit",
   "metadata": {},
   "source": [
    "## Data <a name=\"data\"></a>\n",
    "### Find restaurants alike\n",
    "\n",
    "It is very important to have a relationship with nearby restaurants with the same goals. We need to find a neighborhood where the main ingredient is **fish**. This could help on getting in touch with local suppliers.\n",
    "\n",
    "We will have to use multiple **Foursquare** API endpoints:\n",
    "\n",
    "* Venues **search**: query all Miami neighborhoods restaurants\n",
    "* Venues **explore**: find a location where the recommended restaurants main dish is fish\n",
    "* Venues **categories**: find resturants of similar cuisine\n",
    "* Venues **similar**: find a reference restaurant and the find similar restaurants\n",
    "* Venues **details**: look for restaurants with high likes ranking\n",
    "\n",
    "First we need to cluster all **Miami** neighborhoods by similar cuisine and find if there is a pattern. If there is a pattern, explore all recommended venues near a cluster centroid. If there is not a pattern, query all the categories and find a similar one, then select the neighborhood with the maximum frequency for the selected category.\n",
    "\n",
    "We can find similar restaurants in other neighborhoods and sort them by like ranking, searching through its details.\n",
    "\n",
    "All this data could help us decide a neighborhood with restaurants with similar cuisine and high ratings."
   ]
  },
  {
   "cell_type": "code",
   "execution_count": null,
   "id": "significant-thunder",
   "metadata": {},
   "outputs": [],
   "source": [
    "!pip install html5lib\n",
    "!pip install folium\n",
    "!pip install selenium\n",
    "!pip install tabulate"
   ]
  },
  {
   "cell_type": "code",
   "execution_count": null,
   "id": "known-translator",
   "metadata": {},
   "outputs": [],
   "source": [
    "import requests\n",
    "import pandas as pd\n",
    "import numpy as np\n",
    "from bs4 import BeautifulSoup\n",
    "import folium\n",
    "import io\n",
    "from PIL import Image\n",
    "from geopy.geocoders import Nominatim\n",
    "from sklearn.cluster import KMeans\n",
    "import matplotlib.cm as cm\n",
    "import matplotlib.colors as colors\n",
    "from sklearn.preprocessing import MinMaxScaler\n",
    "import seaborn as sns\n",
    "import matplotlib.pyplot as plt\n",
    "from matplotlib import cm\n",
    "%matplotlib inline\n",
    "from scipy import stats"
   ]
  },
  {
   "cell_type": "markdown",
   "id": "numerical-address",
   "metadata": {},
   "source": [
    "### Obtain all Miami neighborhoods from Wikipedia"
   ]
  },
  {
   "cell_type": "code",
   "execution_count": null,
   "id": "african-authentication",
   "metadata": {},
   "outputs": [],
   "source": [
    "url = \"https://en.wikipedia.org/wiki/List_of_neighborhoods_in_Miami\"\n",
    "soup = BeautifulSoup(requests.get(url).text)\n",
    "table = soup.find(\"table\")\n",
    "neighborhoods = []\n",
    "for row in table.find_all(\"tr\")[1:]:\n",
    "    columns = row.find_all(\"td\")\n",
    "    if columns[0].a is None:\n",
    "        continue\n",
    "    geolocation = columns[5].find_all(\"span\", {\"class\": \"geo\"})\n",
    "    if geolocation:\n",
    "        latitude = geolocation[0].text.split(';')[0].strip()\n",
    "        longitude = geolocation[0].text.split(';')[1].strip()\n",
    "    else:\n",
    "        latitude = \"\"\n",
    "        longitude = \"\"\n",
    "    neighborhood = {\n",
    "        \"Neighborhood\": columns[0].a.text,\n",
    "        \"Latitude\": latitude,\n",
    "        \"Longitude\": longitude\n",
    "    }\n",
    "    neighborhoods.append(neighborhood)\n",
    "\n",
    "df = pd.DataFrame(neighborhoods)\n",
    "df"
   ]
  },
  {
   "cell_type": "markdown",
   "id": "numeric-bracelet",
   "metadata": {},
   "source": [
    "### Data cleaning\n",
    "\n",
    "* Fill empty data\n",
    "* Use the correct data types\n"
   ]
  },
  {
   "cell_type": "code",
   "execution_count": null,
   "id": "ranking-strength",
   "metadata": {},
   "outputs": [],
   "source": [
    "# Taken from Google Maps\n",
    "# https://www.google.com/maps/place/Florida+Health+-+District+Center/@25.7870852,-80.2177615,15z......\n",
    "idx = df[df[\"Neighborhood\"] == \"Health District\"].index\n",
    "df.loc[idx, \"Latitude\"] = \"25.787\"\n",
    "df.loc[idx, \"Longitude\"] = \"-80.217\"\n",
    "df.loc[idx]"
   ]
  },
  {
   "cell_type": "code",
   "execution_count": null,
   "id": "distinct-outdoors",
   "metadata": {},
   "outputs": [],
   "source": [
    "df.dtypes"
   ]
  },
  {
   "cell_type": "code",
   "execution_count": null,
   "id": "logical-pleasure",
   "metadata": {},
   "outputs": [],
   "source": [
    "df = df.astype({\"Neighborhood\": \"string\", \"Latitude\": \"float64\", \"Longitude\": \"float64\"})\n",
    "df.dtypes"
   ]
  },
  {
   "cell_type": "code",
   "execution_count": null,
   "id": "authentic-relationship",
   "metadata": {},
   "outputs": [],
   "source": [
    "df"
   ]
  },
  {
   "cell_type": "markdown",
   "id": "wrapped-representation",
   "metadata": {},
   "source": [
    "### Show neighborhoods on OpenStreeMaps with Folium"
   ]
  },
  {
   "cell_type": "code",
   "execution_count": null,
   "id": "manual-liabilities",
   "metadata": {},
   "outputs": [],
   "source": [
    "address = 'Miami, Florida'\n",
    "\n",
    "geolocator = Nominatim(user_agent=\"ny_explorer\")\n",
    "location = geolocator.geocode(address)\n",
    "latitude = location.latitude\n",
    "longitude = location.longitude\n",
    "print('The geograpical coordinate of Miami are {}, {}.'.format(latitude, longitude))"
   ]
  },
  {
   "cell_type": "code",
   "execution_count": null,
   "id": "faced-venezuela",
   "metadata": {},
   "outputs": [],
   "source": [
    "miami = folium.Map(location=[latitude, longitude], zoom_start=12)\n",
    "\n",
    "# add markers to map\n",
    "for lat, lng, label in zip(df['Latitude'], df['Longitude'], df['Neighborhood']):\n",
    "    label = folium.Popup(label, parse_html=True)\n",
    "    folium.CircleMarker(\n",
    "        [lat, lng],\n",
    "        radius=5,\n",
    "        popup=label,\n",
    "        color='blue',\n",
    "        fill=True,\n",
    "        fill_color='#3186cc',\n",
    "        fill_opacity=0.7,\n",
    "        parse_html=False).add_to(miami)  \n",
    "    \n",
    "miami"
   ]
  },
  {
   "cell_type": "markdown",
   "id": "latter-planet",
   "metadata": {},
   "source": [
    "### Foursquare API"
   ]
  },
  {
   "cell_type": "code",
   "execution_count": null,
   "id": "eleven-gabriel",
   "metadata": {},
   "outputs": [],
   "source": [
    "CLIENT_ID = '' # your Foursquare ID\n",
    "CLIENT_SECRET = '' # your Foursquare Secret\n",
    "ACCESS_TOKEN = '' # your FourSquare Access Token\n",
    "VERSION = '20210501' # Foursquare API version\n",
    "LIMIT = 100 # A default Foursquare API limit value\n",
    "SEARCH_LIMIT = 50\n",
    "RADIUS = 500"
   ]
  },
  {
   "cell_type": "code",
   "execution_count": null,
   "id": "obvious-league",
   "metadata": {},
   "outputs": [],
   "source": [
    "# function that extracts the category of the venue\n",
    "def get_category_type(row):\n",
    "    try:\n",
    "        categories_list = row['categories']\n",
    "    except:\n",
    "        categories_list = row['venue.categories']\n",
    "        \n",
    "    if len(categories_list) == 0:\n",
    "        return None\n",
    "    else:\n",
    "        return categories_list[0]['name']\n",
    "\n",
    "venues_list = []\n",
    "    \n",
    "for lat, lng, label in zip(df['Latitude'], df['Longitude'], df['Neighborhood']):\n",
    "    url = 'https://api.foursquare.com/v2/venues/search?categoryId=4d4b7105d754a06374d81259&client_id={}&client_secret={}&ll={},{}&oauth_token={}&v={}&radius={}&limit={}'.format(\n",
    "        CLIENT_ID, CLIENT_SECRET, lat, lng, ACCESS_TOKEN, VERSION, RADIUS, SEARCH_LIMIT)\n",
    "    results = requests.get(url).json()\n",
    "    # assign relevant part of JSON to venues\n",
    "    venues = results['response']['venues']\n",
    "    # return only relevant information for each nearby venue\n",
    "    venues_list.append([(\n",
    "        label, lat, lng,\n",
    "        v['name'],\n",
    "        v['location']['lat'], v['location']['lng'],\n",
    "        0 < len(v['categories']) and v['categories'][0]['name'] or np.NaN, \n",
    "        v['id']) for v in venues])\n",
    "    \n",
    "venues_df = pd.DataFrame([item for venue_list in venues_list for item in venue_list])\n",
    "venues_df.columns = [\n",
    "    'Neighborhood',\n",
    "    'Neighborhood Latitude', 'Neighborhood Longitude',\n",
    "    'Venue',\n",
    "    'Venue Latitude', 'Venue Longitude',\n",
    "    'Venue Category',\n",
    "    'Venue ID'\n",
    "]\n",
    "venues_df.head()"
   ]
  },
  {
   "cell_type": "code",
   "execution_count": null,
   "id": "another-worship",
   "metadata": {},
   "outputs": [],
   "source": [
    "venues_df[venues_df.isna().any(axis=1)]"
   ]
  },
  {
   "cell_type": "code",
   "execution_count": null,
   "id": "wrong-logic",
   "metadata": {},
   "outputs": [],
   "source": [
    "venues_df.shape"
   ]
  },
  {
   "cell_type": "code",
   "execution_count": null,
   "id": "previous-fever",
   "metadata": {},
   "outputs": [],
   "source": [
    "neighborhoods = venues_df['Neighborhood'].unique()\n",
    "neighborhoods"
   ]
  },
  {
   "cell_type": "code",
   "execution_count": null,
   "id": "center-source",
   "metadata": {},
   "outputs": [],
   "source": [
    "len(neighborhoods)"
   ]
  },
  {
   "cell_type": "markdown",
   "id": "wireless-accused",
   "metadata": {},
   "source": [
    "### Show food venues on OpenStreeMaps with Folium"
   ]
  },
  {
   "cell_type": "code",
   "execution_count": null,
   "id": "alien-despite",
   "metadata": {},
   "outputs": [],
   "source": [
    "miami_venues = folium.Map(location=[latitude, longitude], zoom_start=12)\n",
    "\n",
    "# set color scheme for the neighborhoods\n",
    "n_neighborhoods = df['Neighborhood'].count()\n",
    "x = np.arange(n_neighborhoods)\n",
    "ys = [i + x + (i*x)**2 for i in range(n_neighborhoods)]\n",
    "colors_array = cm.rainbow(np.linspace(0, 1, len(ys)))\n",
    "rainbow = [colors.rgb2hex(i) for i in colors_array]\n",
    "\n",
    "# add markers to map\n",
    "for neighborhood, lat, lng, venue, category in zip(venues_df['Neighborhood'], venues_df['Venue Latitude'], venues_df['Venue Longitude'], venues_df['Venue'], venues_df['Venue Category']):\n",
    "    label = folium.Popup(\"%s: %s (%s)\" % (neighborhood, venue, category), parse_html=True)\n",
    "    neighborhood_idx = df[df['Neighborhood'] == neighborhood].index[0]\n",
    "    folium.CircleMarker(\n",
    "        [lat, lng],\n",
    "        radius=5,\n",
    "        popup=label,\n",
    "        color=rainbow[neighborhood_idx],\n",
    "        fill=True,\n",
    "        fill_color='#3186cc',\n",
    "        fill_opacity=0.7,\n",
    "        parse_html=False).add_to(miami_venues)\n",
    "    \n",
    "miami_venues"
   ]
  },
  {
   "cell_type": "markdown",
   "id": "dying-bolivia",
   "metadata": {},
   "source": [
    "### Exploratory Data Analysis\n",
    "\n",
    "After reviewing neighborhoods with just a few food venues or with very different cuisine, we want to drop the following:\n",
    "\n",
    "* Coconut Grove\n",
    "* Coral Way\n",
    "* The Roads\n",
    "* Grapeland Heights\n",
    "* Allapattah\n",
    "* Liberty City\n"
   ]
  },
  {
   "cell_type": "code",
   "execution_count": null,
   "id": "psychological-religious",
   "metadata": {},
   "outputs": [],
   "source": [
    "drop_neighborhoods = [\"Coconut Grove\", \"Coral Way\", \"The Roads\", \"Grapeland Heights\", \"Allapattah\", \"Liberty City\"]\n",
    "venues_df = venues_df[~venues_df['Neighborhood'].isin(drop_neighborhoods)]\n",
    "venues_df.shape"
   ]
  },
  {
   "cell_type": "markdown",
   "id": "applicable-darkness",
   "metadata": {},
   "source": [
    "### Show the five most frequent venues per neighborhood"
   ]
  },
  {
   "cell_type": "code",
   "execution_count": null,
   "id": "important-brand",
   "metadata": {},
   "outputs": [],
   "source": [
    "num_top_venues = 5\n",
    "\n",
    "onehot = pd.get_dummies(venues_df[['Venue Category']], prefix=\"\", prefix_sep=\"\")\n",
    "onehot['Neighborhood'] = venues_df['Neighborhood'] \n",
    "fixed_columns = [onehot.columns[-1]] + list(onehot.columns[:-1])\n",
    "onehot = onehot[fixed_columns]\n",
    "\n",
    "onehot.head()"
   ]
  },
  {
   "cell_type": "code",
   "execution_count": null,
   "id": "welcome-highway",
   "metadata": {},
   "outputs": [],
   "source": [
    "onehot.shape"
   ]
  },
  {
   "cell_type": "code",
   "execution_count": null,
   "id": "copyrighted-iraqi",
   "metadata": {},
   "outputs": [],
   "source": [
    "grouped = onehot.groupby('Neighborhood').mean().reset_index()\n",
    "grouped"
   ]
  },
  {
   "cell_type": "code",
   "execution_count": null,
   "id": "better-scale",
   "metadata": {},
   "outputs": [],
   "source": [
    "def return_most_common_venues(row, num_top_venues):\n",
    "    row_categories = row.iloc[1:]\n",
    "    row_categories_sorted = row_categories.sort_values(ascending=False)\n",
    "    return row_categories_sorted.index.values[0:num_top_venues]\n",
    "\n",
    "columns = ['Neighborhood'] + [str(ind + 1) for ind in np.arange(num_top_venues)]\n",
    "neighborhoods_venues_sorted = pd.DataFrame(columns=columns)\n",
    "neighborhoods_venues_sorted['Neighborhood'] = grouped['Neighborhood']\n",
    "\n",
    "for ind in np.arange(grouped.shape[0]):\n",
    "    neighborhoods_venues_sorted.iloc[ind, 1:] = return_most_common_venues(grouped.iloc[ind, :], num_top_venues)\n",
    "\n",
    "neighborhoods_venues_sorted"
   ]
  },
  {
   "cell_type": "markdown",
   "id": "caroline-sculpture",
   "metadata": {},
   "source": [
    "### Cluster neighborhoods"
   ]
  },
  {
   "cell_type": "code",
   "execution_count": null,
   "id": "motivated-gothic",
   "metadata": {},
   "outputs": [],
   "source": [
    "grouped_clustering = grouped.drop('Neighborhood', axis=1)\n",
    "\n",
    "n_clusters = 5\n",
    "kmeans = KMeans(init=\"k-means++\", n_clusters=n_clusters, n_init=10, random_state=0).fit(grouped_clustering)\n",
    "neighborhoods_venues_sorted.insert(0, 'Cluster Labels', kmeans.labels_)\n",
    "\n",
    "merged = df\n",
    "merged = merged.join(neighborhoods_venues_sorted.set_index('Neighborhood'), on='Neighborhood')\n",
    "\n",
    "merged"
   ]
  },
  {
   "cell_type": "code",
   "execution_count": null,
   "id": "average-school",
   "metadata": {},
   "outputs": [],
   "source": [
    "merged.dropna(inplace=True)\n",
    "merged.reset_index(drop=True)\n",
    "merged"
   ]
  },
  {
   "cell_type": "code",
   "execution_count": null,
   "id": "hairy-closer",
   "metadata": {},
   "outputs": [],
   "source": [
    "map_clusters = folium.Map(location=[latitude, longitude], zoom_start=13)\n",
    "\n",
    "# set color scheme for the clusters\n",
    "x = np.arange(n_clusters)\n",
    "ys = [i + x + (i*x)**2 for i in range(n_clusters)]\n",
    "colors_array = cm.rainbow(np.linspace(0, 1, len(ys)))\n",
    "rainbow = [colors.rgb2hex(i) for i in colors_array]\n",
    "\n",
    "# add markers to the map\n",
    "markers_colors = []\n",
    "for lat, lon, poi, cluster in zip(merged['Latitude'], merged['Longitude'], merged['Neighborhood'], merged['Cluster Labels']):\n",
    "    label = folium.Popup(str(poi) + ' Cluster ' + str(cluster), parse_html=True)\n",
    "    folium.CircleMarker(\n",
    "        [lat, lon],\n",
    "        radius=5,\n",
    "        popup=label,\n",
    "        color=rainbow[int(cluster)],\n",
    "        fill=True,\n",
    "        fill_color=rainbow[int(cluster)],\n",
    "        fill_opacity=0.7).add_to(map_clusters)\n",
    "       \n",
    "map_clusters"
   ]
  },
  {
   "cell_type": "markdown",
   "id": "mathematical-european",
   "metadata": {},
   "source": [
    "### Examine Clusters"
   ]
  },
  {
   "cell_type": "code",
   "execution_count": null,
   "id": "registered-thickness",
   "metadata": {},
   "outputs": [],
   "source": [
    "merged.loc[merged['Cluster Labels'] == 0, merged.columns[[0] + list(range(4, merged.shape[1]))]]"
   ]
  },
  {
   "cell_type": "code",
   "execution_count": null,
   "id": "realistic-planner",
   "metadata": {},
   "outputs": [],
   "source": [
    "merged.loc[merged['Cluster Labels'] == 1, merged.columns[[0] + list(range(4, merged.shape[1]))]]"
   ]
  },
  {
   "cell_type": "code",
   "execution_count": null,
   "id": "eight-alliance",
   "metadata": {},
   "outputs": [],
   "source": [
    "merged.loc[merged['Cluster Labels'] == 2, merged.columns[[0] + list(range(4, merged.shape[1]))]]"
   ]
  },
  {
   "cell_type": "code",
   "execution_count": null,
   "id": "utility-indonesian",
   "metadata": {},
   "outputs": [],
   "source": [
    "merged.loc[merged['Cluster Labels'] == 3, merged.columns[[0] + list(range(4, merged.shape[1]))]]"
   ]
  },
  {
   "cell_type": "code",
   "execution_count": null,
   "id": "experimental-bride",
   "metadata": {},
   "outputs": [],
   "source": [
    "merged.loc[merged['Cluster Labels'] == 4, merged.columns[[0] + list(range(4, merged.shape[1]))]]"
   ]
  },
  {
   "cell_type": "markdown",
   "id": "diverse-lawyer",
   "metadata": {},
   "source": [
    "### Exploratory Data Analysis\n",
    "\n",
    "As we can see in the data, the neighborhoods with similar cuisine are on the clusters with label **0** and **3**.\n",
    "The 4th cluster includes more neighborhoods that are similar.\n",
    "The 3rd cluster is far from crowded venues.\n",
    "\n",
    "Regarding our needs, we are looking for crowded neighborhoods, the 2nd cluster neighborhoods seem like a good place to start.\n",
    "\n",
    "Selected neighborhoods:"
   ]
  },
  {
   "cell_type": "code",
   "execution_count": null,
   "id": "refined-cinema",
   "metadata": {},
   "outputs": [],
   "source": [
    "selected_neighborhoods = list(merged[merged[\"Cluster Labels\"] == 3]['Neighborhood'])\n",
    "selected_neighborhoods"
   ]
  },
  {
   "cell_type": "markdown",
   "id": "paperback-owner",
   "metadata": {},
   "source": [
    "### Get venues ratings for each neighborhood"
   ]
  },
  {
   "cell_type": "code",
   "execution_count": null,
   "id": "sustainable-array",
   "metadata": {},
   "outputs": [],
   "source": [
    "selected_venues_df = venues_df[venues_df['Neighborhood'].isin(selected_neighborhoods)].reset_index(drop=True)\n",
    "selected_venues_df.head()"
   ]
  },
  {
   "cell_type": "code",
   "execution_count": null,
   "id": "worse-carroll",
   "metadata": {},
   "outputs": [],
   "source": [
    "selected_venues_df.shape"
   ]
  },
  {
   "cell_type": "markdown",
   "id": "rapid-mobile",
   "metadata": {},
   "source": [
    "### Discard non restaurant venues\n",
    "\n",
    "* Bakery\n",
    "* Cupcake Shop\n",
    "* Café\n",
    "* Ice Cream Shop\n",
    "* Bagel Shop\n",
    "* Smoothie Shop\n",
    "* Coffee Shop\n",
    "* Hotel\n",
    "* Pie Shop\n",
    "* Gift Shop\n",
    "* Record Shop\n",
    "* Cafeteria\n",
    "* Event Space"
   ]
  },
  {
   "cell_type": "code",
   "execution_count": null,
   "id": "fitted-necessity",
   "metadata": {},
   "outputs": [],
   "source": [
    "selected_venues_df['Venue Category'].unique()"
   ]
  },
  {
   "cell_type": "code",
   "execution_count": null,
   "id": "novel-collector",
   "metadata": {},
   "outputs": [],
   "source": [
    "banned_categories = [\"Bakery\", \"Cupcake Shop\", \"Café\", \"Ice Cream Shop\", \"Bagel Shop\", \"Smoothie Shop\", \"Coffee Shop\", \"Hotel\", \"Pie Shop\", \"Gift Shop\", \"Record Shop\", \"Cafeteria\", \"Event Space\"]\n",
    "selected_venues_df = selected_venues_df[~selected_venues_df['Venue Category'].isin(banned_categories)].reset_index(drop=True)\n",
    "selected_venues_df.head()"
   ]
  },
  {
   "cell_type": "code",
   "execution_count": null,
   "id": "accessory-central",
   "metadata": {},
   "outputs": [],
   "source": [
    "selected_venues_df.shape"
   ]
  },
  {
   "cell_type": "markdown",
   "id": "obvious-austria",
   "metadata": {},
   "source": [
    "### Obtain Venue Rating and Likes from Foursquare API (Premium endpoint \"/venues/X\")"
   ]
  },
  {
   "cell_type": "code",
   "execution_count": null,
   "id": "numerical-simulation",
   "metadata": {},
   "outputs": [],
   "source": [
    "ratings = []\n",
    "likes = []\n",
    "    \n",
    "for venue_id, venue, neighborhood in zip(selected_venues_df['Venue ID'], selected_venues_df['Venue'], selected_venues_df['Neighborhood']):\n",
    "    url = 'https://api.foursquare.com/v2/venues/{}?client_id={}&client_secret={}&oauth_token={}&v={}'.format(venue_id, CLIENT_ID, CLIENT_SECRET, ACCESS_TOKEN, VERSION)\n",
    "    results = requests.get(url).json()\n",
    "    try:\n",
    "        venue_rating = results['response']['venue']['rating']\n",
    "    except Exception:\n",
    "        venue_rating = 0.0\n",
    "    try:\n",
    "        venue_likes = results['response']['venue']['likes']['count']\n",
    "    except Exception:\n",
    "        venue_likes = 0\n",
    "    ratings.append(venue_rating)\n",
    "    likes.append(venue_likes)\n",
    "\n",
    "selected_venues_df['Venue Rating'] = ratings\n",
    "selected_venues_df['Venue Likes'] = likes\n",
    "selected_venues_df.to_csv(\"venues_ratings.csv\")\n",
    "selected_venues_df.head()"
   ]
  },
  {
   "cell_type": "markdown",
   "id": "broadband-cause",
   "metadata": {},
   "source": [
    "### Transform Venue Ratings to one decimal point float values and normalize"
   ]
  },
  {
   "cell_type": "code",
   "execution_count": null,
   "id": "earned-italy",
   "metadata": {},
   "outputs": [],
   "source": [
    "selected_venues_df['Venue Rating'] = MinMaxScaler().fit_transform(selected_venues_df[['Venue Rating']].transform(lambda x: round(x, 2)))\n",
    "selected_venues_df['Venue Likes'] = MinMaxScaler().fit_transform(selected_venues_df[['Venue Likes']])"
   ]
  },
  {
   "cell_type": "code",
   "execution_count": null,
   "id": "caring-browser",
   "metadata": {},
   "outputs": [],
   "source": [
    "csv_venues_df = pd.read_csv(\"venues_ratings.csv\")"
   ]
  },
  {
   "cell_type": "code",
   "execution_count": null,
   "id": "noticed-diesel",
   "metadata": {},
   "outputs": [],
   "source": [
    "csv_venues_df[[\"Neighborhood\", \"Venue\"]].describe(include=['object'])"
   ]
  },
  {
   "cell_type": "code",
   "execution_count": null,
   "id": "married-visit",
   "metadata": {},
   "outputs": [],
   "source": [
    "csv_venues_df[[\"Venue Rating\", \"Venue Likes\"]].describe()"
   ]
  },
  {
   "cell_type": "code",
   "execution_count": null,
   "id": "featured-choir",
   "metadata": {},
   "outputs": [],
   "source": [
    "csv_venues_df[['Neighborhood', 'Venue Rating', 'Venue Likes']].groupby('Neighborhood').agg(['mean', 'count']).sort_values([('Venue Rating', 'mean')], ascending=False).to_markdown()"
   ]
  },
  {
   "cell_type": "code",
   "execution_count": null,
   "id": "following-clear",
   "metadata": {},
   "outputs": [],
   "source": [
    "selected_venues_df[['Neighborhood', 'Venue Rating', 'Venue Likes']].groupby('Neighborhood').boxplot(fontsize=12, figsize=(15, 15))\n",
    "plt.show()"
   ]
  },
  {
   "cell_type": "markdown",
   "id": "beautiful-render",
   "metadata": {},
   "source": [
    "### Correlation between Likes and Rating"
   ]
  },
  {
   "cell_type": "code",
   "execution_count": null,
   "id": "handled-strike",
   "metadata": {},
   "outputs": [],
   "source": [
    "selected_venues_df[['Venue Rating', 'Venue Likes']].corr()['Venue Rating'].sort_values()"
   ]
  },
  {
   "cell_type": "code",
   "execution_count": null,
   "id": "massive-optics",
   "metadata": {},
   "outputs": [],
   "source": [
    "width = 12\n",
    "height = 10\n",
    "plt.figure(figsize=(width, height))\n",
    "sns.regplot(x=\"Venue Rating\", y=\"Venue Likes\", data=selected_venues_df)\n",
    "plt.ylim(0,)"
   ]
  },
  {
   "cell_type": "code",
   "execution_count": null,
   "id": "annoying-christmas",
   "metadata": {},
   "outputs": [],
   "source": [
    "pearson_coef, p_value = stats.pearsonr(selected_venues_df['Venue Likes'], selected_venues_df['Venue Rating'])\n",
    "print(\"The Pearson Correlation Coefficient is\", pearson_coef, \"with a P-value of P =\", p_value ) "
   ]
  },
  {
   "cell_type": "markdown",
   "id": "wanted-wildlife",
   "metadata": {},
   "source": [
    "### Correlation between neighborhood and Rating"
   ]
  },
  {
   "cell_type": "code",
   "execution_count": null,
   "id": "leading-ridge",
   "metadata": {},
   "outputs": [],
   "source": [
    "sns.set(rc={'figure.figsize':(18, 10)})\n",
    "sns.boxplot(x=\"Neighborhood\", y=\"Venue Rating\", data=selected_venues_df)\n",
    "plt.show()"
   ]
  },
  {
   "cell_type": "code",
   "execution_count": null,
   "id": "copyrighted-luxury",
   "metadata": {},
   "outputs": [],
   "source": [
    "neighborhood_rating_group = selected_venues_df[['Neighborhood', 'Venue Rating']].groupby(['Neighborhood'])\n",
    "\n",
    "rating_groups = []\n",
    "for neighborhood in selected_venues_df['Neighborhood'].unique():\n",
    "    rating_groups.append(neighborhood_rating_group.get_group(neighborhood)['Venue Rating'])\n",
    "\n",
    "    # ANOVA\n",
    "f_val, p_val = stats.f_oneway(*rating_groups)\n",
    " \n",
    "print(\"ANOVA results: F-score =\", f_val, \"P-score =\", p_val)"
   ]
  },
  {
   "cell_type": "markdown",
   "id": "solid-medicare",
   "metadata": {},
   "source": [
    "### Data Binning - create Venue Rating categorical column"
   ]
  },
  {
   "cell_type": "code",
   "execution_count": null,
   "id": "fewer-conditioning",
   "metadata": {},
   "outputs": [],
   "source": [
    "selected_venues_df['Venue Rating'].describe()"
   ]
  },
  {
   "cell_type": "code",
   "execution_count": null,
   "id": "intellectual-final",
   "metadata": {},
   "outputs": [],
   "source": [
    "bins = [-1, .0, .4, .6, 1.]\n",
    "labels = ['Low', 'Low-Mid', 'Mid-High', 'High']\n",
    "selected_venues_df['Venue Rating Categorical'] = pd.cut(selected_venues_df['Venue Rating'], bins=bins, labels=labels)\n",
    "selected_venues_df.head()"
   ]
  },
  {
   "cell_type": "code",
   "execution_count": null,
   "id": "comparative-giving",
   "metadata": {},
   "outputs": [],
   "source": [
    "neighborhood_rating_contingency = pd.crosstab(selected_venues_df['Neighborhood'], selected_venues_df['Venue Rating Categorical'], normalize='index')\n",
    "plt.figure(figsize=(20,8))\n",
    "sns.heatmap(neighborhood_rating_contingency, annot=True, cmap=\"YlGnBu\")\n",
    "plt.show()"
   ]
  },
  {
   "cell_type": "code",
   "execution_count": null,
   "id": "alone-scientist",
   "metadata": {},
   "outputs": [],
   "source": [
    "# Chi-square test of independence.\n",
    "chi2, p, dof, expected = stats.chi2_contingency(neighborhood_rating_contingency)\n",
    "print(\"Chi-square =\", chi2, \" P-value =\", p)"
   ]
  },
  {
   "cell_type": "markdown",
   "id": "warming-washington",
   "metadata": {},
   "source": [
    "### Display Venue Rating with Folium\n",
    "\n",
    "* The red markers have the highest ratings\n",
    "* The white markers have the lowest ratings\n",
    "* Fill color corresponds to the neighborhood"
   ]
  },
  {
   "cell_type": "code",
   "execution_count": null,
   "id": "turkish-shopping",
   "metadata": {
    "tags": []
   },
   "outputs": [],
   "source": [
    "miami_venues = folium.Map(location=[latitude, longitude], zoom_start=12)\n",
    "\n",
    "# set color scheme for the neighborhoods\n",
    "cmap = plt.get_cmap('OrRd')\n",
    "\n",
    "n_neighborhoods = selected_venues_df['Neighborhood'].count()\n",
    "x = np.arange(n_neighborhoods)\n",
    "ys = [i + x + (i*x)**2 for i in range(n_neighborhoods)]\n",
    "colors_array = cm.rainbow(np.linspace(0, 1, len(ys)))\n",
    "rainbow = [colors.rgb2hex(i) for i in colors_array]\n",
    "\n",
    "# add markers to map\n",
    "for neighborhood, lat, lng, venue, category, rating in zip(selected_venues_df['Neighborhood'], selected_venues_df['Venue Latitude'], selected_venues_df['Venue Longitude'], selected_venues_df['Venue'], selected_venues_df['Venue Category'], selected_venues_df['Venue Rating']):\n",
    "    label = folium.Popup(\"(%s) %s > %s: %.2f\" % (category, neighborhood, venue, rating), parse_html=True)\n",
    "    neighborhood_idx = selected_venues_df[selected_venues_df['Neighborhood'] == neighborhood].index[0]\n",
    "    folium.CircleMarker(\n",
    "        [lat, lng],\n",
    "        radius=5,\n",
    "        popup=label,\n",
    "        color=colors.rgb2hex(cmap(rating)),\n",
    "        fill=True,\n",
    "        fill_color=rainbow[neighborhood_idx],\n",
    "        fill_opacity=0.7,\n",
    "        parse_html=False).add_to(miami_venues)\n",
    "    \n",
    "miami_venues"
   ]
  },
  {
   "cell_type": "code",
   "execution_count": null,
   "id": "invisible-calendar",
   "metadata": {},
   "outputs": [],
   "source": []
  }
 ],
 "metadata": {
  "kernelspec": {
   "display_name": "Python 3",
   "language": "python",
   "name": "python3"
  },
  "language_info": {
   "codemirror_mode": {
    "name": "ipython",
    "version": 3
   },
   "file_extension": ".py",
   "mimetype": "text/x-python",
   "name": "python",
   "nbconvert_exporter": "python",
   "pygments_lexer": "ipython3",
   "version": "3.8.8"
  }
 },
 "nbformat": 4,
 "nbformat_minor": 5
}
